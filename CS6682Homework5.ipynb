{
  "nbformat": 4,
  "nbformat_minor": 0,
  "metadata": {
    "colab": {
      "provenance": [],
      "mount_file_id": "1Pc2VeETYibte1tDBz6CoCbFti7GMg2l7",
      "authorship_tag": "ABX9TyNz7H0JRaoQCgbe4+BQA9Qg",
      "include_colab_link": true
    },
    "kernelspec": {
      "name": "python3",
      "display_name": "Python 3"
    },
    "language_info": {
      "name": "python"
    }
  },
  "cells": [
    {
      "cell_type": "markdown",
      "metadata": {
        "id": "view-in-github",
        "colab_type": "text"
      },
      "source": [
        "<a href=\"https://colab.research.google.com/github/LGreenII/TroyProjects/blob/main/CS6682Homework5.ipynb\" target=\"_parent\"><img src=\"https://colab.research.google.com/assets/colab-badge.svg\" alt=\"Open In Colab\"/></a>"
      ]
    },
    {
      "cell_type": "code",
      "execution_count": 11,
      "metadata": {
        "id": "GbKhQxtI9Tgr"
      },
      "outputs": [],
      "source": [
        "import pandas as pd\n",
        "import numpy as np\n",
        "import sklearn.svm as svm\n",
        "import sklearn.metrics as metrics\n",
        "import matplotlib.pyplot as plt"
      ]
    },
    {
      "cell_type": "code",
      "source": [
        "weather_data = pd.read_csv('/content/drive/MyDrive/CS6682/Homework3/weatherAUS.csv')"
      ],
      "metadata": {
        "id": "f9SQyoaj-MKo"
      },
      "execution_count": 2,
      "outputs": []
    },
    {
      "cell_type": "code",
      "source": [
        "weather_data = weather_data.drop(columns=['Date'])"
      ],
      "metadata": {
        "id": "xbMBOssPG7EV"
      },
      "execution_count": 3,
      "outputs": []
    },
    {
      "cell_type": "code",
      "source": [
        "for column in weather_data.columns:\n",
        "    if weather_data[column].dtype == 'object':\n",
        "        weather_data[column] = weather_data[column].astype('category')\n",
        "        weather_data[column] = weather_data[column].cat.codes"
      ],
      "metadata": {
        "id": "tLsymhDNG_sJ"
      },
      "execution_count": 4,
      "outputs": []
    },
    {
      "cell_type": "code",
      "source": [
        "weather_data.fillna(weather_data.mean(), inplace=True)"
      ],
      "metadata": {
        "id": "TLu-uJgSHCRH"
      },
      "execution_count": 5,
      "outputs": []
    },
    {
      "cell_type": "code",
      "source": [
        "x = weather_data.drop(['RainTomorrow'], axis=1)\n",
        "y = weather_data['RainTomorrow']"
      ],
      "metadata": {
        "id": "hOqWjzbVHK5h"
      },
      "execution_count": 6,
      "outputs": []
    },
    {
      "cell_type": "code",
      "source": [
        "x_train = x.sample(frac=0.05, random_state=0)\n",
        "x_test = x.drop(x_train.index)\n",
        "y_train = y.sample(frac=0.05, random_state=0)\n",
        "y_test = y.drop(y_train.index)"
      ],
      "metadata": {
        "id": "Uf4e2LJiMu42"
      },
      "execution_count": 7,
      "outputs": []
    },
    {
      "cell_type": "code",
      "source": [
        "svm_model = svm.SVC(kernel='linear')\n",
        "svm_model.fit(x_train, y_train)"
      ],
      "metadata": {
        "id": "djBo08n1O9lk"
      },
      "execution_count": null,
      "outputs": []
    },
    {
      "cell_type": "code",
      "source": [
        "y_pred = svm_model.predict(x_test)"
      ],
      "metadata": {
        "id": "SW8Y3BMFPRk3"
      },
      "execution_count": 14,
      "outputs": []
    },
    {
      "cell_type": "code",
      "source": [],
      "metadata": {
        "id": "II5EUZQGP4TX"
      },
      "execution_count": null,
      "outputs": []
    },
    {
      "cell_type": "code",
      "source": [
        "plt.scatter(y_test, y_pred)\n",
        "plt.xlabel('Actual Rain Tomorrow')\n",
        "plt.ylabel('Predicted Rain Tomorrow')\n",
        "plt.title('Actual vs Predicted Rain Tomorrow')\n",
        "plt.show()"
      ],
      "metadata": {
        "colab": {
          "base_uri": "https://localhost:8080/",
          "height": 472
        },
        "id": "LQuos4rCPZid",
        "outputId": "ee617415-0357-4cbe-ed96-b756c7ea9720"
      },
      "execution_count": 12,
      "outputs": [
        {
          "output_type": "display_data",
          "data": {
            "text/plain": [
              "<Figure size 640x480 with 1 Axes>"
            ],
            "image/png": "[encoded data removed]"
          },
          "metadata": {}
        }
      ]
    },
    {
      "cell_type": "code",
      "source": [
        "model_metrics = metrics.classification_report(y_test, y_pred)\n",
        "print(model_metrics)"
      ],
      "metadata": {
        "colab": {
          "base_uri": "https://localhost:8080/"
        },
        "id": "3nh_9Ih5QK19",
        "outputId": "b6fbe785-d802-4d56-972d-2d9df0988de8"
      },
      "execution_count": 16,
      "outputs": [
        {
          "output_type": "stream",
          "name": "stdout",
          "text": [
            "              precision    recall  f1-score   support\n",
            "\n",
            "          -1       0.58      0.42      0.49      3118\n",
            "           0       0.85      0.94      0.89    104823\n",
            "           1       0.70      0.48      0.57     30246\n",
            "\n",
            "    accuracy                           0.83    138187\n",
            "   macro avg       0.71      0.61      0.65    138187\n",
            "weighted avg       0.82      0.83      0.81    138187\n",
            "\n"
          ]
        }
      ]
    },
    {
      "cell_type": "code",
      "source": [
        "from sklearn.metrics import r2_score\n",
        "accuracy = svm_model.score(x_test, y_test)\n",
        "print(accuracy)"
      ],
      "metadata": {
        "colab": {
          "base_uri": "https://localhost:8080/"
        },
        "id": "iRGdMtQkQUKi",
        "outputId": "6e21160d-caa5-469d-89b4-c7d9921e463b"
      },
      "execution_count": 20,
      "outputs": [
        {
          "output_type": "stream",
          "name": "stdout",
          "text": [
            "0.8273498954315529\n"
          ]
        }
      ]
    }
  ]
}