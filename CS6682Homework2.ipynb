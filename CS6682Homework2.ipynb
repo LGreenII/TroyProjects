{
  "nbformat": 4,
  "nbformat_minor": 0,
  "metadata": {
    "colab": {
      "provenance": [],
      "mount_file_id": "1O58R1XGDlb23siMyMuAik6YmKjnuop8D",
      "authorship_tag": "ABX9TyMVHEl5SHtYWGDzBfnMLyP1",
      "include_colab_link": true
    },
    "kernelspec": {
      "name": "python3",
      "display_name": "Python 3"
    },
    "language_info": {
      "name": "python"
    }
  },
  "cells": [
    {
      "cell_type": "markdown",
      "metadata": {
        "id": "view-in-github",
        "colab_type": "text"
      },
      "source": [
        "<a href=\"https://colab.research.google.com/github/LGreenII/TroyProjects/blob/main/CS6682Homework2.ipynb\" target=\"_parent\"><img src=\"https://colab.research.google.com/assets/colab-badge.svg\" alt=\"Open In Colab\"/></a>"
      ]
    },
    {
      "cell_type": "code",
      "execution_count": 227,
      "metadata": {
        "id": "WXNGOpjy2YcT"
      },
      "outputs": [],
      "source": [
        "%matplotlib inline\n",
        "import pandas as pd\n",
        "import numpy as np\n",
        "import matplotlib.pyplot as plt\n",
        "import os\n",
        "from sklearn.linear_model import LinearRegression\n",
        "from sklearn.model_selection import train_test_split"
      ]
    },
    {
      "cell_type": "code",
      "source": [
        "training_set = pd.read_csv('/content/drive/MyDrive/CS6682/train.csv')\n",
        "test_set = pd.read_csv('/content/drive/MyDrive/CS6682/test.csv')\n"
      ],
      "metadata": {
        "id": "8Ksm8Xh33Kqu"
      },
      "execution_count": 228,
      "outputs": []
    },
    {
      "cell_type": "code",
      "source": [
        "test_set\n"
      ],
      "metadata": {
        "id": "u2O6b5SQ4l7B"
      },
      "execution_count": null,
      "outputs": []
    },
    {
      "cell_type": "code",
      "source": [
        "training_columns = training_set.columns\n",
        "test_columns = test_set.columns"
      ],
      "metadata": {
        "id": "TPIIdqXOBYL-"
      },
      "execution_count": 230,
      "outputs": []
    },
    {
      "cell_type": "code",
      "source": [
        "for column in training_set.columns:\n",
        "    if training_set[column].dtype == 'object':\n",
        "        training_set[column] = training_set[column].astype('category')\n",
        "        training_set[column] = training_set[column].cat.codes"
      ],
      "metadata": {
        "id": "7zgPFHZcCqCM"
      },
      "execution_count": 231,
      "outputs": []
    },
    {
      "cell_type": "code",
      "source": [
        "for column in test_set.columns:\n",
        "    if test_set[column].dtype == 'object':\n",
        "        test_set[column] = test_set[column].astype('category')\n",
        "        test_set[column] = test_set[column].cat.codes"
      ],
      "metadata": {
        "id": "aBqpIu5mMRQ3"
      },
      "execution_count": 232,
      "outputs": []
    },
    {
      "cell_type": "code",
      "source": [
        "training_set.mean()\n",
        "test_set.mean()"
      ],
      "metadata": {
        "id": "yJjmav-3Jr-G"
      },
      "execution_count": null,
      "outputs": []
    },
    {
      "cell_type": "code",
      "source": [
        "training_set.fillna(training_set.mean(), inplace=True)\n",
        "test_set.fillna(test_set.mean(), inplace=True)"
      ],
      "metadata": {
        "id": "yGTogU1HKgJs"
      },
      "execution_count": 234,
      "outputs": []
    },
    {
      "cell_type": "code",
      "source": [
        "#X_train, y_train = training_set.drop('SalePrice', axis=1), training_set['SalePrice']\n",
        "#X_test = test_set\n",
        "#X_train.drop(index=0, inplace = True)\n",
        "#y_train.drop(index=0, inplace = True)\n",
        "#X_train.shape\n",
        "#y_train.shape"
      ],
      "metadata": {
        "id": "g4E9OJTDGwdL"
      },
      "execution_count": 205,
      "outputs": []
    },
    {
      "cell_type": "code",
      "source": [
        "x = training_set.drop('SalePrice', axis=1)\n",
        "y = training_set['SalePrice']"
      ],
      "metadata": {
        "id": "zDVNOi9LT3qw"
      },
      "execution_count": 235,
      "outputs": []
    },
    {
      "cell_type": "code",
      "source": [
        "X_train, X_test, y_train, y_test = train_test_split(x, y, test_size=0.3, random_state=0)\n",
        "lr = LinearRegression()\n",
        "lr.fit(X_train, y_train)"
      ],
      "metadata": {
        "id": "XYnRItiPHj5e"
      },
      "execution_count": null,
      "outputs": []
    },
    {
      "cell_type": "code",
      "source": [
        "#lr = LinearRegression()\n",
        "#lr.fit(X_train, y_train)"
      ],
      "metadata": {
        "id": "v2kt0-X9Rpz0"
      },
      "execution_count": null,
      "outputs": []
    },
    {
      "cell_type": "code",
      "source": [
        "c = lr.intercept_\n",
        "m = lr.coef_"
      ],
      "metadata": {
        "id": "BlXiUX9lLAIp"
      },
      "execution_count": 237,
      "outputs": []
    },
    {
      "cell_type": "code",
      "source": [
        "y_pred_test = lr.predict(X_test)"
      ],
      "metadata": {
        "id": "GYT_ki4ZLEL3"
      },
      "execution_count": null,
      "outputs": []
    },
    {
      "cell_type": "code",
      "source": [
        "y_pred_test.shape"
      ],
      "metadata": {
        "id": "PX06o2qCS4ys"
      },
      "execution_count": null,
      "outputs": []
    },
    {
      "cell_type": "code",
      "source": [
        "plt.scatter(y_test, y_pred_test)\n",
        "plt.xlabel('Actual')\n",
        "plt.ylabel('Predicted')\n",
        "plt.title('Actual vs Predicted')\n",
        "plt.show()\n"
      ],
      "metadata": {
        "colab": {
          "base_uri": "https://localhost:8080/",
          "height": 472
        },
        "id": "tOXK6gBELEen",
        "outputId": "01ff2f8e-8b29-42ee-83c8-78fc0c9324b0"
      },
      "execution_count": 244,
      "outputs": [
        {
          "output_type": "display_data",
          "data": {
            "text/plain": [
              "<Figure size 640x480 with 1 Axes>"
            ],
            "image/png": "[encoded data removed]"
          },
          "metadata": {}
        }
      ]
    },
    {
      "cell_type": "code",
      "source": [
        "from sklearn.metrics import r2_score\n",
        "accuracy = lr.score(X_train, y_train)"
      ],
      "metadata": {
        "id": "h3eTK0ehLvl-"
      },
      "execution_count": 245,
      "outputs": []
    },
    {
      "cell_type": "code",
      "source": [
        "accuracy"
      ],
      "metadata": {
        "colab": {
          "base_uri": "https://localhost:8080/"
        },
        "id": "auUpPiSvcSGZ",
        "outputId": "f49d9a4d-8f4c-47d3-f9e1-96f9bdc237eb"
      },
      "execution_count": 246,
      "outputs": [
        {
          "output_type": "execute_result",
          "data": {
            "text/plain": [
              "0.8863086010930242"
            ]
          },
          "metadata": {},
          "execution_count": 246
        }
      ]
    }
  ]
}