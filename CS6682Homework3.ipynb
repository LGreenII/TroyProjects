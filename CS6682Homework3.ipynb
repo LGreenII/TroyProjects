{
  "nbformat": 4,
  "nbformat_minor": 0,
  "metadata": {
    "colab": {
      "provenance": [],
      "mount_file_id": "1Qt7p2csN3hYkZhURdjgjEfmZuEVkxp_d",
      "authorship_tag": "ABX9TyMLBCtqH5qwi/FTycpjvOxH",
      "include_colab_link": true
    },
    "kernelspec": {
      "name": "python3",
      "display_name": "Python 3"
    },
    "language_info": {
      "name": "python"
    }
  },
  "cells": [
    {
      "cell_type": "markdown",
      "metadata": {
        "id": "view-in-github",
        "colab_type": "text"
      },
      "source": [
        "<a href=\"https://colab.research.google.com/github/LGreenII/TroyProjects/blob/main/CS6682Homework3.ipynb\" target=\"_parent\"><img src=\"https://colab.research.google.com/assets/colab-badge.svg\" alt=\"Open In Colab\"/></a>"
      ]
    },
    {
      "cell_type": "markdown",
      "source": [
        "Levon Green\n",
        "CS6682\n",
        "Week 3 Homework\n",
        "Logistic Regression"
      ],
      "metadata": {
        "id": "3pAyswp-C5n2"
      }
    },
    {
      "cell_type": "code",
      "execution_count": 25,
      "metadata": {
        "id": "qhU6b66bC1d4"
      },
      "outputs": [],
      "source": [
        "import pandas as pd\n",
        "import numpy as np\n",
        "import matplotlib.pyplot as plt\n",
        "from sklearn.model_selection import train_test_split\n",
        "from sklearn.linear_model import LogisticRegression\n",
        "from sklearn.metrics import accuracy_score"
      ]
    },
    {
      "cell_type": "code",
      "source": [
        "weather_data = pd.read_csv('/content/drive/MyDrive/CS6682/Homework3/weatherAUS.csv')"
      ],
      "metadata": {
        "id": "89vMAa-0D1FN"
      },
      "execution_count": 26,
      "outputs": []
    },
    {
      "cell_type": "code",
      "source": [
        "weather_data = weather_data.drop(columns=['Date'])"
      ],
      "metadata": {
        "id": "PUM-nEmbHsuv"
      },
      "execution_count": 27,
      "outputs": []
    },
    {
      "cell_type": "code",
      "source": [
        "for column in weather_data.columns:\n",
        "    if weather_data[column].dtype == 'object':\n",
        "        weather_data[column] = weather_data[column].astype('category')\n",
        "        weather_data[column] = weather_data[column].cat.codes"
      ],
      "metadata": {
        "id": "ijObg_8pIuNU"
      },
      "execution_count": 28,
      "outputs": []
    },
    {
      "cell_type": "code",
      "source": [
        "weather_data.fillna(weather_data.mean(), inplace=True)"
      ],
      "metadata": {
        "id": "24ZaBC45I7sr"
      },
      "execution_count": 29,
      "outputs": []
    },
    {
      "cell_type": "code",
      "source": [
        "x = weather_data.drop(['RainTomorrow'], axis=1)\n",
        "y = weather_data['RainTomorrow']"
      ],
      "metadata": {
        "id": "buQ5CllwLX9k"
      },
      "execution_count": 30,
      "outputs": []
    },
    {
      "cell_type": "code",
      "source": [
        "#X_train, y_train = weather_data.drop(['RainTomorrow'], axis=1), weather_data['RainTomorrow']"
      ],
      "metadata": {
        "id": "dqWTXBg9G737"
      },
      "execution_count": 23,
      "outputs": []
    },
    {
      "cell_type": "code",
      "source": [
        "X_train, X_test, y_train, y_test = train_test_split(x, y, test_size=0.1, random_state=0)\n",
        "lr = LogisticRegression()\n",
        "print(y_train.shape)"
      ],
      "metadata": {
        "colab": {
          "base_uri": "https://localhost:8080/"
        },
        "id": "fdnjn-7xICqw",
        "outputId": "824080a4-7171-4d62-bed1-a7e16f3967da"
      },
      "execution_count": 31,
      "outputs": [
        {
          "output_type": "stream",
          "name": "stdout",
          "text": [
            "(130914,)\n"
          ]
        }
      ]
    },
    {
      "cell_type": "code",
      "source": [
        "lr.fit(X_train, y_train)"
      ],
      "metadata": {
        "id": "AgIwoAcAIaCX"
      },
      "execution_count": null,
      "outputs": []
    },
    {
      "cell_type": "code",
      "source": [
        "y_pred = lr.predict(X_test)"
      ],
      "metadata": {
        "id": "sbRA9SQWL0t4"
      },
      "execution_count": 33,
      "outputs": []
    },
    {
      "cell_type": "code",
      "source": [
        "plt.scatter(y_test, y_pred)\n",
        "plt.xlabel('Actual')\n",
        "plt.ylabel('Predicted')\n",
        "plt.title('Actual vs Predicted')\n",
        "plt.show()"
      ],
      "metadata": {
        "colab": {
          "base_uri": "https://localhost:8080/",
          "height": 472
        },
        "id": "9XPz4EpNL9YJ",
        "outputId": "6ebb7625-03bc-4271-d2b3-1526355fceb2"
      },
      "execution_count": 34,
      "outputs": [
        {
          "output_type": "display_data",
          "data": {
            "text/plain": [
              "<Figure size 640x480 with 1 Axes>"
            ],
            "image/png": "[encoded data removed]"
          },
          "metadata": {}
        }
      ]
    },
    {
      "cell_type": "code",
      "source": [
        "from sklearn.metrics import r2_score\n",
        "accuracy = lr.score(X_train, y_train)"
      ],
      "metadata": {
        "id": "-YkXrky-MWBi"
      },
      "execution_count": 35,
      "outputs": []
    },
    {
      "cell_type": "code",
      "source": [
        "print(accuracy)"
      ],
      "metadata": {
        "colab": {
          "base_uri": "https://localhost:8080/"
        },
        "id": "fWSw9XQ-MZhA",
        "outputId": "5b84555a-3ff3-4240-a317-31f2e9f26c65"
      },
      "execution_count": 36,
      "outputs": [
        {
          "output_type": "stream",
          "name": "stdout",
          "text": [
            "0.8193852452755244\n"
          ]
        }
      ]
    },
    {
      "cell_type": "code",
      "source": [
        "accuracy_score(y_test, y_pred)"
      ],
      "metadata": {
        "colab": {
          "base_uri": "https://localhost:8080/"
        },
        "id": "30zzURPqM3GH",
        "outputId": "9a308d98-0f09-4599-ab4a-7b855809ad3b"
      },
      "execution_count": 37,
      "outputs": [
        {
          "output_type": "execute_result",
          "data": {
            "text/plain": [
              "0.8190567853705486"
            ]
          },
          "metadata": {},
          "execution_count": 37
        }
      ]
    }
  ]
}